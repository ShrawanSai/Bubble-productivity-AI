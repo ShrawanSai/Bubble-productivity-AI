{
 "cells": [
  {
   "cell_type": "code",
   "execution_count": 18,
   "metadata": {},
   "outputs": [],
   "source": [
    "from sklearn.metrics.pairwise import cosine_similarity"
   ]
  },
  {
   "cell_type": "code",
   "execution_count": 8,
   "metadata": {},
   "outputs": [],
   "source": [
    "import pickle\n",
    "with open('tfidf_vectorizer.pkl', 'rb') as f:\n",
    "    vectorizer = pickle.load(f)"
   ]
  },
  {
   "cell_type": "code",
   "execution_count": 9,
   "metadata": {},
   "outputs": [],
   "source": [
    "my_about_me = '''\n",
    "I am a fourth year engineering student at VIT University pursuing my computer science degree. I am currently into the fields of machine learning,\n",
    " natural language processing and artificial intelligence. I have 4 years of experience with python and\n",
    " I am looking forward to work on such projects in the future\n",
    "'''"
   ]
  },
  {
   "cell_type": "code",
   "execution_count": 10,
   "metadata": {},
   "outputs": [],
   "source": [
    "person_1 = '''\n",
    "I am a front-end developer with 5 years of experience working with e-commerce companies.I specialize in using Java, PHP,\n",
    "and Ruby to build customer facing APIs, and also have experience integrating payment systems.\n",
    "'''"
   ]
  },
  {
   "cell_type": "code",
   "execution_count": 11,
   "metadata": {},
   "outputs": [],
   "source": [
    "person_2 = '''\n",
    "I’m a web developer from Mumbai, India. I focus on front-end web development to bring the best experience to your users. I have worked on many \n",
    "frontend and backend frameworks like Django, NodeJs etc.\n",
    "'''"
   ]
  },
  {
   "cell_type": "code",
   "execution_count": 12,
   "metadata": {},
   "outputs": [],
   "source": [
    "person_3 = '''\n",
    "Highly organized and detail-oriented honors graduate from the University of Georgia seeking an entry-level position\n",
    "as an accountant. Served as a peer tutor for courses such as general accounting, budgeting and forecasting, \n",
    "and accounting principles and legislation.\n",
    "'''"
   ]
  },
  {
   "cell_type": "code",
   "execution_count": 13,
   "metadata": {},
   "outputs": [],
   "source": [
    "person_4 = '''\n",
    "I am a student pursuing to be an engineer at Manipal Institue of technology. I like working in Machine learning and Artificial Intelligence projects.\n",
    "I am still a beginner but I want to be a successfull AI enthusiast in the future'''"
   ]
  },
  {
   "cell_type": "code",
   "execution_count": 14,
   "metadata": {},
   "outputs": [],
   "source": [
    "person_5 = '''\n",
    "I'm a senior software engineer working in Novartis working on machine learning and natural language processing. I am looking to work with students\n",
    "pursuing engineering for exciting projects\n",
    "'''"
   ]
  },
  {
   "cell_type": "code",
   "execution_count": 35,
   "metadata": {},
   "outputs": [],
   "source": [
    "database = {'1': person_1, '2': person_2, '3': person_3, '4': person_4, '5': person_5}"
   ]
  },
  {
   "cell_type": "code",
   "execution_count": 42,
   "metadata": {},
   "outputs": [],
   "source": [
    "def recommend(person: str, rest_vectors: dict):\n",
    "    \"\"\"\n",
    "        Return first 5 vectors above 70% score\n",
    "    \"\"\"\n",
    "    \n",
    "    ids = []\n",
    "    descriptions = []\n",
    "    for key, value in rest_vectors.items():\n",
    "        \n",
    "        ids.append(key)\n",
    "        descriptions.append(value)\n",
    "        \n",
    "    descriptions.insert(0,person)\n",
    "    \n",
    "    tfidf_term_vectors  = vectorizer.transform(descriptions)\n",
    "    \n",
    "   \n",
    "    tfidf_term_vectors = tfidf_term_vectors.toarray()\n",
    "    \n",
    "    similarities = []\n",
    "    for i in range(1,len(rest_vectors)+1):\n",
    "        similarities.append(cosine_similarity(np.array([tfidf_term_vectors[0]]), np.array([tfidf_term_vectors[i]])))\n",
    "        \n",
    "    ans = [x for _,x in sorted(zip(similarities,ids))]\n",
    "    \n",
    "    \n",
    "    return ans[::-1]"
   ]
  },
  {
   "cell_type": "code",
   "execution_count": 43,
   "metadata": {},
   "outputs": [],
   "source": [
    "sutiable_person_id_recommendation = recommend(my_about_me,database)"
   ]
  },
  {
   "cell_type": "code",
   "execution_count": 44,
   "metadata": {},
   "outputs": [
    {
     "name": "stdout",
     "output_type": "stream",
     "text": [
      "['5', '1', '2', '4', '3']\n"
     ]
    }
   ],
   "source": [
    "print(sutiable_person_id_recommendation)"
   ]
  },
  {
   "cell_type": "code",
   "execution_count": 51,
   "metadata": {},
   "outputs": [
    {
     "name": "stdout",
     "output_type": "stream",
     "text": [
      " User descroption of himself is : \n",
      " \n",
      "I am a fourth year engineering student at VIT University pursuing my computer science degree. I am currently into the fields of machine learning,\n",
      " natural language processing and artificial intelligence. I have 4 years of experience with python and\n",
      " I am looking forward to work on such projects in the future\n",
      "\n",
      "____________________________________________________________________________________________________\n",
      "Recommendations from best to worst: \n",
      "\n",
      " Person 5 : \n",
      " Description: \n",
      "I'm a senior software engineer working in Novartis working on machine learning and natural language processing. I am looking to work with students\n",
      "pursuing engineering for exciting projects\n",
      " \n",
      "\n",
      " Person 1 : \n",
      " Description: \n",
      "I am a front-end developer with 5 years of experience working with e-commerce companies.I specialize in using Java, PHP,\n",
      "and Ruby to build customer facing APIs, and also have experience integrating payment systems.\n",
      " \n",
      "\n",
      " Person 2 : \n",
      " Description: \n",
      "I’m a web developer from Mumbai, India. I focus on front-end web development to bring the best experience to your users. I have worked on many \n",
      "frontend and backend frameworks like Django, NodeJs etc.\n",
      " \n",
      "\n",
      " Person 4 : \n",
      " Description: \n",
      "I am a student pursuing to be an engineer at Manipal Institue of technology. I like working in Machine learning and Artificial Intelligence projects.\n",
      "I am still a beginner but I want to be a successfull AI enthusiast in the future \n",
      "\n",
      " Person 3 : \n",
      " Description: \n",
      "Highly organized and detail-oriented honors graduate from the University of Georgia seeking an entry-level position\n",
      "as an accountant. Served as a peer tutor for courses such as general accounting, budgeting and forecasting, \n",
      "and accounting principles and legislation.\n",
      " \n",
      "\n"
     ]
    }
   ],
   "source": [
    "print(f' User descroption of himself is : \\n {my_about_me}')\n",
    "print( '_'*100)\n",
    "\n",
    "print('Recommendations from best to worst: \\n')\n",
    "for i in range(len(sutiable_person_id_recommendation)):\n",
    "    print(f' Person {sutiable_person_id_recommendation[i]} : \\n Description: {database[sutiable_person_id_recommendation[i]]} \\n')\n",
    "    "
   ]
  },
  {
   "cell_type": "code",
   "execution_count": null,
   "metadata": {},
   "outputs": [],
   "source": []
  }
 ],
 "metadata": {
  "kernelspec": {
   "display_name": "Python 3",
   "language": "python",
   "name": "python3"
  },
  "language_info": {
   "codemirror_mode": {
    "name": "ipython",
    "version": 3
   },
   "file_extension": ".py",
   "mimetype": "text/x-python",
   "name": "python",
   "nbconvert_exporter": "python",
   "pygments_lexer": "ipython3",
   "version": "3.6.7"
  }
 },
 "nbformat": 4,
 "nbformat_minor": 4
}
