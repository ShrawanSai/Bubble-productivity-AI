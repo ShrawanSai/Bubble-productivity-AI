{
 "cells": [
  {
   "cell_type": "code",
   "execution_count": 23,
   "metadata": {},
   "outputs": [],
   "source": [
    "import os\n",
    "import pickle\n",
    "from sklearn.metrics.pairwise import cosine_similarity\n",
    "import spacy\n",
    "from stemming.porter2 import stem\n",
    "import nltk\n",
    "from nltk.tokenize import sent_tokenize, word_tokenize\n",
    "sp = spacy.load('en_core_web_sm')\n",
    "all_stopwords = sp.Defaults.stop_words\n",
    "\n",
    "\n",
    "class Recommendation:\n",
    "    \n",
    "    def __init__(self,path = 'tfidf_vectorizer.pkl' ):\n",
    "        \n",
    "        self.path = os.path.join(os.getcwd(), path)\n",
    "        with open(self.path, 'rb') as f:\n",
    "            self.vectorizer = pickle.load(f)\n",
    "\n",
    "\n",
    "    def __preprocess_text(self,text : str) -> str:\n",
    "\n",
    "   \n",
    "\n",
    "        text = text.lower()\n",
    "        text = re.sub(r'[^\\x00-\\x7F]+',' ', text)\n",
    "        text = re.sub(r'[^a-zA-Z0-9 ]', '', text).strip()\n",
    "        text = re.sub(r'\\w*\\d\\w*', '', text).strip()\n",
    "        text = re.sub(' +', ' ', text)\n",
    "\n",
    "        pure_words_list = self.__remove_stops(text)\n",
    "        stemmed_text = self.__stem_all_words(pure_words_list)\n",
    "\n",
    "        return stemmed_text\n",
    "\n",
    "\n",
    "    def __remove_stops(self,text: str) -> list:\n",
    "\n",
    "        text_tokens = word_tokenize(text)\n",
    "        tokens_without_sw= [word for word in text_tokens if not word in all_stopwords]\n",
    "\n",
    "        return tokens_without_sw\n",
    "\n",
    "    def __stem_all_words(self,text: list) -> str:\n",
    "\n",
    "        w = [stem(word) for word in text]\n",
    "        return ' '.join(w)\n",
    "    \n",
    "    def recommend(self,person: str, rest_vectors: list) -> list:\n",
    "\n",
    "\n",
    "        ids = []\n",
    "        descriptions = []\n",
    "        for ind, value in enumerate(rest_vectors):\n",
    "\n",
    "            ids.append(ind)\n",
    "            descriptions.append(value)\n",
    "\n",
    "        descriptions.insert(0,person)\n",
    "\n",
    "        d = [self.__preprocess_text(i) for i in descriptions]\n",
    "        descriptions = d\n",
    "\n",
    "        tfidf_term_vectors  = self.vectorizer.transform(descriptions)\n",
    "\n",
    "\n",
    "        tfidf_term_vectors = tfidf_term_vectors.toarray()\n",
    "\n",
    "        similarities = []\n",
    "        for i in range(1,len(rest_vectors)+1):\n",
    "            similarities.append(cosine_similarity(np.array([tfidf_term_vectors[0]]), np.array([tfidf_term_vectors[i]])))\n",
    "\n",
    "        ans = [x for _,x in sorted(zip(similarities,ids))]\n",
    "\n",
    "\n",
    "        return ans[::-1]\n",
    "\n",
    "\n",
    "        "
   ]
  },
  {
   "cell_type": "code",
   "execution_count": 24,
   "metadata": {},
   "outputs": [],
   "source": [
    "my_about_me = '''\n",
    "I am a fourth year engineering student at VIT University pursuing my computer science degree. I am currently into the fields of machine learning,\n",
    " natural language processing and artificial intelligence. I have 4 years of experience with python and\n",
    " I am looking forward to work on such projects in the future\n",
    "'''"
   ]
  },
  {
   "cell_type": "code",
   "execution_count": 25,
   "metadata": {},
   "outputs": [],
   "source": [
    "person_1 = '''\n",
    "I am a front-end developer with 5 years of experience working with e-commerce companies.I specialize in using Java, PHP,\n",
    "and Ruby to build customer facing APIs, and also have experience integrating payment systems.\n",
    "'''\n",
    "\n",
    "person_2 = '''\n",
    "I’m a web developer from Mumbai, India. I focus on front-end web development to bring the best experience to your users. I have worked on many \n",
    "frontend and backend frameworks like Django, NodeJs etc.\n",
    "'''\n",
    "\n",
    "person_3 = '''\n",
    "Highly organized and detail-oriented honors graduate from the University of Georgia seeking an entry-level position\n",
    "as an accountant. Served as a peer tutor for courses such as general accounting, budgeting and forecasting, \n",
    "and accounting principles and legislation.\n",
    "'''\n",
    "\n",
    "person_4 = '''\n",
    "I am a student pursuing to be an engineer at Manipal Institue of technology. I like working in Machine learning and Artificial Intelligence projects.\n",
    "I am still a beginner but I want to be a successfull AI enthusiast in the future'''\n",
    "\n",
    "person_5 = '''\n",
    "I'm a senior software engineer working in Novartis working on machine learning and natural language processing. I am looking to work with students\n",
    "pursuing engineering for exciting projects\n",
    "'''\n",
    "\n",
    "all_descriptions = [person_1, person_2, person_3, person_4, person_5]\n"
   ]
  },
  {
   "cell_type": "code",
   "execution_count": 26,
   "metadata": {},
   "outputs": [
    {
     "data": {
      "text/plain": [
       "[4, 3, 0, 2, 1]"
      ]
     },
     "execution_count": 26,
     "metadata": {},
     "output_type": "execute_result"
    }
   ],
   "source": [
    "recommender = Recommendation()\n",
    "recommender.recommend(my_about_me,all_descriptions)"
   ]
  },
  {
   "cell_type": "code",
   "execution_count": null,
   "metadata": {},
   "outputs": [],
   "source": []
  }
 ],
 "metadata": {
  "kernelspec": {
   "display_name": "Python 3",
   "language": "python",
   "name": "python3"
  },
  "language_info": {
   "codemirror_mode": {
    "name": "ipython",
    "version": 3
   },
   "file_extension": ".py",
   "mimetype": "text/x-python",
   "name": "python",
   "nbconvert_exporter": "python",
   "pygments_lexer": "ipython3",
   "version": "3.6.7"
  }
 },
 "nbformat": 4,
 "nbformat_minor": 4
}
