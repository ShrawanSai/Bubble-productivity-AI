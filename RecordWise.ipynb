{
 "cells": [
  {
   "cell_type": "code",
   "execution_count": 62,
   "metadata": {},
   "outputs": [
    {
     "name": "stdout",
     "output_type": "stream",
     "text": [
      "Requirement already satisfied: stemming in c:\\users\\msais\\anaconda3\\envs\\gg\\lib\\site-packages (1.0.1)\n"
     ]
    }
   ],
   "source": [
    "!pip install stemming"
   ]
  },
  {
   "cell_type": "code",
   "execution_count": 2,
   "metadata": {},
   "outputs": [],
   "source": [
    "import pandas as pd\n",
    "import ast \n",
    "import re\n",
    "import nltk\n",
    "from nltk.tokenize import sent_tokenize, word_tokenize\n",
    "import spacy\n",
    "import en_core_web_sm\n",
    "import string\n",
    "from normalise import normalise\n",
    "from nltk.stem import PorterStemmer\n",
    "from nltk.stem import WordNetLemmatizer\n",
    "import numpy as np\n",
    "import multiprocessing as mp\n",
    "from nltk.tokenize import word_tokenize\n",
    "from sklearn.base import TransformerMixin, BaseEstimator"
   ]
  },
  {
   "cell_type": "code",
   "execution_count": 3,
   "metadata": {},
   "outputs": [],
   "source": [
    "file = pd.read_csv('resume_data.csv')"
   ]
  },
  {
   "cell_type": "code",
   "execution_count": 4,
   "metadata": {},
   "outputs": [],
   "source": [
    "file = file[['Resume_title',  'Description', 'work_experiences',\n",
    "       'Educations', \n",
    "       'Additional Information']]\n",
    "\n",
    "file.dropna(inplace=True)"
   ]
  },
  {
   "cell_type": "code",
   "execution_count": 5,
   "metadata": {},
   "outputs": [
    {
     "data": {
      "text/html": [
       "<div>\n",
       "<style scoped>\n",
       "    .dataframe tbody tr th:only-of-type {\n",
       "        vertical-align: middle;\n",
       "    }\n",
       "\n",
       "    .dataframe tbody tr th {\n",
       "        vertical-align: top;\n",
       "    }\n",
       "\n",
       "    .dataframe thead th {\n",
       "        text-align: right;\n",
       "    }\n",
       "</style>\n",
       "<table border=\"1\" class=\"dataframe\">\n",
       "  <thead>\n",
       "    <tr style=\"text-align: right;\">\n",
       "      <th></th>\n",
       "      <th>Resume_title</th>\n",
       "      <th>Description</th>\n",
       "      <th>work_experiences</th>\n",
       "      <th>Educations</th>\n",
       "      <th>Additional Information</th>\n",
       "    </tr>\n",
       "  </thead>\n",
       "  <tbody>\n",
       "    <tr>\n",
       "      <th>0</th>\n",
       "      <td>Java Developer</td>\n",
       "      <td>To prove myself dedicated, worthy and energeti...</td>\n",
       "      <td>{0: [{'wtitle:': 'Java Developer'}, {'wcompany...</td>\n",
       "      <td>{0: [{'e_title:': \"Bachelor's in Bachelor of C...</td>\n",
       "      <td>\\nTechnical Expertise \\n• Operating Systems: W...</td>\n",
       "    </tr>\n",
       "    <tr>\n",
       "      <th>1</th>\n",
       "      <td>Software Developer</td>\n",
       "      <td>Working as Software Developer at IngroInfo Sof...</td>\n",
       "      <td>{0: [{'wtitle:': 'JAVA DEVELOPER'}, {'wcompany...</td>\n",
       "      <td>{0: [{'e_title:': 'MCA in Master of Computer A...</td>\n",
       "      <td>NONE</td>\n",
       "    </tr>\n",
       "    <tr>\n",
       "      <th>2</th>\n",
       "      <td>Java developer</td>\n",
       "      <td>Looking for a challenging career which demands...</td>\n",
       "      <td>{0: [{'wtitle:': 'Java Developer'}, {'wcompany...</td>\n",
       "      <td>{0: [{'e_title:': \"Bachelor's in Electrical En...</td>\n",
       "      <td>\\nTECHNICAL SKILLS \\n \\nFrameworks: Spring, Sp...</td>\n",
       "    </tr>\n",
       "    <tr>\n",
       "      <th>3</th>\n",
       "      <td>Seeking innovative and challenging career assi...</td>\n",
       "      <td>NONE</td>\n",
       "      <td>{0: [{'wtitle:': 'Java Developer'}, {'wcompany...</td>\n",
       "      <td>{0: [{'e_title:': 'BE in Computer'}, {'e_schoo...</td>\n",
       "      <td>NONE</td>\n",
       "    </tr>\n",
       "    <tr>\n",
       "      <th>4</th>\n",
       "      <td>NONE</td>\n",
       "      <td>NONE</td>\n",
       "      <td>{0: [{'wtitle:': 'Java Developer'}, {'wcompany...</td>\n",
       "      <td>{0: [{'e_title:': 'Bachelor of Engineering in ...</td>\n",
       "      <td>NONE</td>\n",
       "    </tr>\n",
       "  </tbody>\n",
       "</table>\n",
       "</div>"
      ],
      "text/plain": [
       "                                        Resume_title  \\\n",
       "0                                     Java Developer   \n",
       "1                                 Software Developer   \n",
       "2                                     Java developer   \n",
       "3  Seeking innovative and challenging career assi...   \n",
       "4                                               NONE   \n",
       "\n",
       "                                         Description  \\\n",
       "0  To prove myself dedicated, worthy and energeti...   \n",
       "1  Working as Software Developer at IngroInfo Sof...   \n",
       "2  Looking for a challenging career which demands...   \n",
       "3                                               NONE   \n",
       "4                                               NONE   \n",
       "\n",
       "                                    work_experiences  \\\n",
       "0  {0: [{'wtitle:': 'Java Developer'}, {'wcompany...   \n",
       "1  {0: [{'wtitle:': 'JAVA DEVELOPER'}, {'wcompany...   \n",
       "2  {0: [{'wtitle:': 'Java Developer'}, {'wcompany...   \n",
       "3  {0: [{'wtitle:': 'Java Developer'}, {'wcompany...   \n",
       "4  {0: [{'wtitle:': 'Java Developer'}, {'wcompany...   \n",
       "\n",
       "                                          Educations  \\\n",
       "0  {0: [{'e_title:': \"Bachelor's in Bachelor of C...   \n",
       "1  {0: [{'e_title:': 'MCA in Master of Computer A...   \n",
       "2  {0: [{'e_title:': \"Bachelor's in Electrical En...   \n",
       "3  {0: [{'e_title:': 'BE in Computer'}, {'e_schoo...   \n",
       "4  {0: [{'e_title:': 'Bachelor of Engineering in ...   \n",
       "\n",
       "                              Additional Information  \n",
       "0  \\nTechnical Expertise \\n• Operating Systems: W...  \n",
       "1                                               NONE  \n",
       "2  \\nTECHNICAL SKILLS \\n \\nFrameworks: Spring, Sp...  \n",
       "3                                               NONE  \n",
       "4                                               NONE  "
      ]
     },
     "execution_count": 5,
     "metadata": {},
     "output_type": "execute_result"
    }
   ],
   "source": [
    "file.head()"
   ]
  },
  {
   "cell_type": "code",
   "execution_count": 9,
   "metadata": {},
   "outputs": [],
   "source": [
    "def clean_work_exp_column(content):\n",
    "    \n",
    "    text = '''\n",
    "    '''\n",
    "    \n",
    "    try:\n",
    "        res = ast.literal_eval(content)\n",
    "        wtitle = set()\n",
    "        wdescr = set()\n",
    "        for tup in res:\n",
    "            wtitle.add(list(res[tup][0].values())[0] + ' ')\n",
    "            desc = list(res[tup][5].values())[0]\n",
    "            desc = re.sub(r'[^\\x00-\\x7F]+',' ', desc)\n",
    "            if desc.upper() == 'NONE':\n",
    "                continue\n",
    "            wdescr.add(desc + ' ')\n",
    "\n",
    "        for i in wtitle:\n",
    "            text += i + ' '\n",
    "\n",
    "        for i in wdescr:\n",
    "            text += i\n",
    "\n",
    "\n",
    "    except Exception as e:\n",
    "        print(e)\n",
    "    return text"
   ]
  },
  {
   "cell_type": "code",
   "execution_count": 13,
   "metadata": {},
   "outputs": [
    {
     "name": "stdout",
     "output_type": "stream",
     "text": [
      "\n",
      "    Java Developer    Working as a Java Developer at Atos Syntel. \n",
      "  Being a part of team to work on US based project in Logistics Domain to improve business operations by enhancing existing business software functionalities.  \n"
     ]
    }
   ],
   "source": [
    "print(clean_work_exp_column(file['work_experiences'][3]))"
   ]
  },
  {
   "cell_type": "code",
   "execution_count": 14,
   "metadata": {},
   "outputs": [],
   "source": [
    "def clean_education_column(content):\n",
    "    \n",
    "    text = '''\n",
    "    '''\n",
    "    \n",
    " \n",
    "    try:\n",
    "        res = ast.literal_eval(content)\n",
    "        for tup in res:\n",
    "                title = list(res[tup][0].values())[0]\n",
    "                title = re.sub(r'[^\\x00-\\x7F]+',' ', title)\n",
    "                if title.upper() == 'NONE':\n",
    "                    continue\n",
    "                text += title\n",
    "    except Exception as e:\n",
    "        print(e)\n",
    "    return text\n",
    "\n",
    "\n",
    "\n"
   ]
  },
  {
   "cell_type": "code",
   "execution_count": 18,
   "metadata": {},
   "outputs": [
    {
     "name": "stdout",
     "output_type": "stream",
     "text": [
      "\n",
      "    BTECH in IT in Nanded Diploma in IT \n"
     ]
    }
   ],
   "source": [
    "print(clean_education_column(file['Educations'][9]))"
   ]
  },
  {
   "cell_type": "code",
   "execution_count": 75,
   "metadata": {},
   "outputs": [],
   "source": [
    "def clean_title_column(content):\n",
    "    \n",
    "    text = '''\n",
    "    '''\n",
    "    \n",
    "  \n",
    "    try:\n",
    "        if content.upper() == 'NONE':\n",
    "            return ''\n",
    "        text += content\n",
    "    except Exception as e:\n",
    "        print(e)\n",
    "    return text\n"
   ]
  },
  {
   "cell_type": "code",
   "execution_count": 23,
   "metadata": {},
   "outputs": [
    {
     "name": "stdout",
     "output_type": "stream",
     "text": [
      "\n",
      "    mca / with 3 years of development experience \n"
     ]
    }
   ],
   "source": [
    "print(clean_title_column(file['Resume_title'][8]))"
   ]
  },
  {
   "cell_type": "code",
   "execution_count": 25,
   "metadata": {},
   "outputs": [],
   "source": [
    "def clean_desc_column(desc):\n",
    "    \n",
    "    text = '''\n",
    "    '''\n",
    "    \n",
    "    try:\n",
    "        if desc.upper() == 'NONE':\n",
    "            return ''\n",
    "\n",
    "        desc = re.sub(r'[^\\x00-\\x7F]+',' ', desc)\n",
    "        text += desc\n",
    "    except Exception as e:\n",
    "        print(desc)\n",
    "    return text\n"
   ]
  },
  {
   "cell_type": "code",
   "execution_count": 27,
   "metadata": {},
   "outputs": [
    {
     "name": "stdout",
     "output_type": "stream",
     "text": [
      "\n",
      "    To secure a challenging position where I can effectively contribute my skills as Software Professional, possessing competent \n",
      "Technical Skills. \n"
     ]
    }
   ],
   "source": [
    "print(clean_desc_column(file['Description'][6]))"
   ]
  },
  {
   "cell_type": "code",
   "execution_count": 28,
   "metadata": {},
   "outputs": [],
   "source": [
    "def clean_additonal_column(info):\n",
    "    \n",
    "    text = '''\n",
    "    '''\n",
    "    \n",
    "    try:\n",
    "        if info.upper() == 'NONE':\n",
    "            return ''\n",
    "\n",
    "        info = re.sub(r'[^\\x00-\\x7F]+',' ', info)\n",
    "        text += info\n",
    "    except Exception as e:\n",
    "        print(info)\n",
    "    return text\n",
    "\n",
    "\n"
   ]
  },
  {
   "cell_type": "code",
   "execution_count": 29,
   "metadata": {},
   "outputs": [
    {
     "name": "stdout",
     "output_type": "stream",
     "text": [
      "\n",
      "    \n",
      "Technical Expertise \n",
      "  Operating Systems: Windows 7/8/10. \n",
      "  Languages Known: JAVA, C, C++, HTML, CSS, Bootstrap, J2EE, JSP and JavaScript. \n",
      "  Frameworks Hibernate and Spring. \n",
      "  Packages: MYSQL \n",
      "Development Tools: Eclipse and Netbeans.\n"
     ]
    }
   ],
   "source": [
    "print(clean_additonal_column(file['Additional Information'][0]))"
   ]
  },
  {
   "cell_type": "code",
   "execution_count": null,
   "metadata": {},
   "outputs": [],
   "source": []
  },
  {
   "cell_type": "code",
   "execution_count": 86,
   "metadata": {},
   "outputs": [],
   "source": [
    "import spacy\n",
    "from stemming.porter2 import stem\n",
    "sp = spacy.load('en_core_web_sm')\n",
    "\n",
    "all_stopwords = sp.Defaults.stop_words\n",
    "\n",
    "\n",
    "def preprocess_text(text):\n",
    "    \n",
    "    #print('processing')\n",
    "    \n",
    "    text = text.lower()\n",
    "    text = re.sub(r'[^\\x00-\\x7F]+',' ', text)\n",
    "    text = re.sub(r'[^a-zA-Z0-9 ]', '', text).strip()\n",
    "    text = re.sub(r'\\w*\\d\\w*', '', text).strip()\n",
    "    text = re.sub(' +', ' ', text)\n",
    "    \n",
    "    pure_words_list = remove_stops(text)\n",
    "    stemmed_text = stem_all_words(pure_words_list)\n",
    "    \n",
    "    return stemmed_text\n",
    "\n",
    "\n",
    "def remove_stops(text):\n",
    "    \n",
    "    text_tokens = word_tokenize(text)\n",
    "    tokens_without_sw= [word for word in text_tokens if not word in all_stopwords]\n",
    "\n",
    "    return tokens_without_sw\n",
    "\n",
    "def stem_all_words(text):\n",
    "    \n",
    "    w = [stem(word) for word in text]\n",
    "    return ' '.join(w)\n",
    "\n"
   ]
  },
  {
   "cell_type": "code",
   "execution_count": 87,
   "metadata": {},
   "outputs": [],
   "source": [
    "dataset = []"
   ]
  },
  {
   "cell_type": "code",
   "execution_count": 88,
   "metadata": {},
   "outputs": [
    {
     "name": "stdout",
     "output_type": "stream",
     "text": [
      "unexpected indent (<unknown>, line 1)\n",
      "unexpected indent (<unknown>, line 1)\n",
      "unexpected indent (<unknown>, line 1)\n",
      "unexpected indent (<unknown>, line 1)\n"
     ]
    }
   ],
   "source": [
    "for index, row in file.iterrows():\n",
    "    val = [clean_title_column(row['Resume_title']).strip(),\n",
    "           clean_desc_column(row['Description']).strip(),\n",
    "           clean_education_column(row['Educations']).strip(),\n",
    "           clean_work_exp_column(row['work_experiences']).strip(),\n",
    "           clean_additonal_column(row['Additional Information']).strip()]\n",
    "    \n",
    "    val = ' '.join(val)\n",
    "    #print(val)\n",
    "    val = preprocess_text(val)\n",
    "    \n",
    "    #print(val)\n",
    "    dataset.append(val)\n",
    "    \n",
    "    "
   ]
  },
  {
   "cell_type": "code",
   "execution_count": 89,
   "metadata": {},
   "outputs": [
    {
     "name": "stdout",
     "output_type": "stream",
     "text": [
      "Done\n"
     ]
    }
   ],
   "source": [
    "print('Done')"
   ]
  },
  {
   "cell_type": "code",
   "execution_count": 90,
   "metadata": {},
   "outputs": [
    {
     "data": {
      "text/plain": [
       "14798"
      ]
     },
     "execution_count": 90,
     "metadata": {},
     "output_type": "execute_result"
    }
   ],
   "source": [
    "len(dataset)"
   ]
  },
  {
   "cell_type": "code",
   "execution_count": 91,
   "metadata": {},
   "outputs": [],
   "source": [
    "import pickle\n",
    "with open('dataset_processed.pkl', 'wb') as f:\n",
    "    pickle.dump(dataset, f)"
   ]
  },
  {
   "cell_type": "code",
   "execution_count": null,
   "metadata": {},
   "outputs": [],
   "source": []
  }
 ],
 "metadata": {
  "kernelspec": {
   "display_name": "Python 3",
   "language": "python",
   "name": "python3"
  },
  "language_info": {
   "codemirror_mode": {
    "name": "ipython",
    "version": 3
   },
   "file_extension": ".py",
   "mimetype": "text/x-python",
   "name": "python",
   "nbconvert_exporter": "python",
   "pygments_lexer": "ipython3",
   "version": "3.6.7"
  }
 },
 "nbformat": 4,
 "nbformat_minor": 4
}
