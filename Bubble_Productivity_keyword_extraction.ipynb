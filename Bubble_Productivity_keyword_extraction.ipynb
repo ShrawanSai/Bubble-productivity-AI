{
  "nbformat": 4,
  "nbformat_minor": 0,
  "metadata": {
    "colab": {
      "name": "Bubble Productivity keyword extraction.ipynb",
      "provenance": [],
      "authorship_tag": "ABX9TyMhRZkgPcL9b8XHiSsNtHSG",
      "include_colab_link": true
    },
    "kernelspec": {
      "name": "python3",
      "display_name": "Python 3"
    }
  },
  "cells": [
    {
      "cell_type": "markdown",
      "metadata": {
        "id": "view-in-github",
        "colab_type": "text"
      },
      "source": [
        "<a href=\"https://colab.research.google.com/github/ShrawanSai/Bubble-productivity-AI/blob/main/Bubble_Productivity_keyword_extraction.ipynb\" target=\"_parent\"><img src=\"https://colab.research.google.com/assets/colab-badge.svg\" alt=\"Open In Colab\"/></a>"
      ]
    },
    {
      "cell_type": "code",
      "metadata": {
        "id": "U-mVWd_9nf4N",
        "outputId": "f49ef588-9e3b-4214-e0f8-8df000e9136d",
        "colab": {
          "base_uri": "https://localhost:8080/",
          "height": 87
        }
      },
      "source": [
        "!pip install rake-nltk"
      ],
      "execution_count": 2,
      "outputs": [
        {
          "output_type": "stream",
          "text": [
            "Requirement already satisfied: rake-nltk in /usr/local/lib/python3.6/dist-packages (1.0.4)\n",
            "Requirement already satisfied: nltk in /usr/local/lib/python3.6/dist-packages (from rake-nltk) (3.2.5)\n",
            "Requirement already satisfied: six in /usr/local/lib/python3.6/dist-packages (from nltk->rake-nltk) (1.15.0)\n"
          ],
          "name": "stdout"
        }
      ]
    },
    {
      "cell_type": "code",
      "metadata": {
        "id": "_FxEKDTdo7vA"
      },
      "source": [
        "from rake_nltk import Rake"
      ],
      "execution_count": 4,
      "outputs": []
    },
    {
      "cell_type": "code",
      "metadata": {
        "id": "UnrlAXlopB8u"
      },
      "source": [
        "def get_keywords(text_en):\n",
        "  r = Rake()\n",
        "\n",
        "  r.extract_keywords_from_text(text_en)\n",
        "\n",
        "  keywords = r.get_ranked_phrases()\n",
        "  \n",
        "  return keywords[:10]"
      ],
      "execution_count": 5,
      "outputs": []
    },
    {
      "cell_type": "code",
      "metadata": {
        "id": "6f_T9PqtrD3C",
        "outputId": "b98b2814-f4d8-42df-953f-190577e15812",
        "colab": {
          "base_uri": "https://localhost:8080/",
          "height": 54
        }
      },
      "source": [
        "about_me = '''\n",
        "I am a fourth year engineering student at VIT University pursuing my computer science degree. I am currently into the fields of machine learning,\n",
        " natural language processing and artificial intelligence. I am looking forward to work on such projects in the future\n",
        "'''\n",
        "\n",
        "print(get_keywords(about_me))"
      ],
      "execution_count": 6,
      "outputs": [
        {
          "output_type": "stream",
          "text": [
            "['fourth year engineering student', 'vit university pursuing', 'natural language processing', 'computer science degree', 'machine learning', 'looking forward', 'artificial intelligence', 'work', 'projects', 'future']\n"
          ],
          "name": "stdout"
        }
      ]
    },
    {
      "cell_type": "code",
      "metadata": {
        "id": "Cx9jOFVVrQOm"
      },
      "source": [
        ""
      ],
      "execution_count": null,
      "outputs": []
    }
  ]
}